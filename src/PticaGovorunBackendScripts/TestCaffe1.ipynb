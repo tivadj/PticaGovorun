{
 "worksheets": [
  {
   "cells": [
    {
     "cell_type": "code",
     "metadata": {},
     "outputs": [],
     "input": [
      "import numpy as np\n",
      "import matplotlib.pyplot as plt\n",
      "%matplotlib inline\n",
      "\n",
      "plt.rcParams['figure.figsize'] = (10, 10)\n",
      "plt.rcParams['image.interpolation'] = 'nearest'\n",
      "plt.rcParams['image.cmap'] = 'gray'\n",
      "\n",
      "import os\n",
      "os.chdir('C:\\\\devb\\\\cplex\\\\caffe\\\\') # path with exe/dlls\n",
      "\n",
      "caffe_root='C:\\\\devb\\\\cplex\\\\caffe\\\\'\n",
      "import sys\n",
      "sys.path.insert(0, caffe_root + 'python')\n",
      "\n",
      "import caffe"
     ],
     "language": "python",
     "prompt_number": 1
    },
    {
     "cell_type": "code",
     "metadata": {},
     "outputs": [],
     "input": [
      ""
     ],
     "language": "python"
    },
    {
     "cell_type": "code",
     "metadata": {},
     "outputs": [
      {
       "output_type": "stream",
       "stream": "('C:\\\\devb\\\\cplex\\\\caffe\\\\examples\\\\mnist\\\\lenet.prototxt', 'C:\\\\devb\\\\cplex\\\\caffe\\\\examples\\\\mnist\\\\lenet_iter_10000.caffemodel')\n",
       "text": [
        "('C:\\\\devb\\\\cplex\\\\caffe\\\\examples\\\\mnist\\\\lenet.prototxt', 'C:\\\\devb\\\\cplex\\\\caffe\\\\examples\\\\mnist\\\\lenet_iter_10000.caffemodel')\n"
       ]
      }
     ],
     "input": [
      "modelPath = os.path.normpath(os.path.join(caffe_root,\"examples/mnist/lenet.prototxt\"))\n",
      "weightsPath = os.path.normpath(os.path.join(caffe_root,\"examples/mnist/lenet_iter_10000.caffemodel\"))\n",
      "print(modelPath, weightsPath)\n",
      "\n",
      "net = caffe.Classifier(modelPath, weightsPath)\n",
      "net.set_phase_test()\n",
      "net.set_mode_cpu()"
     ],
     "language": "python",
     "prompt_number": 2
    },
    {
     "cell_type": "code",
     "metadata": {},
     "outputs": [],
     "input": [
      "# imgPath = os.path.normpath(os.path.join(caffe_root, 'examples/images/cat.jpg'))\n",
      "# print(imgPath)\n",
      "# img = caffe.io.load_image(imgPath)\n",
      "# plt.imshow(img)\n",
      "testDataPath = os.path.normpath(os.path.join(caffe_root,'data/mnist/t10k-images-idx3-ubyte'))\n",
      "testLabelPath = os.path.normpath(os.path.join(caffe_root,'data/mnist/t10k-labels-idx1-ubyte'))\n",
      "n = 10000\n",
      "\n",
      "with open(testDataPath, 'rb') as f:\n",
      "    f.read(16) # skip the header\n",
      "    raw_data = np.fromstring(f.read(n * 28*28), dtype=np.uint8)\n",
      "\n",
      "imgList = raw_data.reshape(n, 28, 28)\n",
      "\n",
      "with open(testLabelPath, 'rb') as f:\n",
      "    f.read(8) # skip the header\n",
      "    labels = np.fromstring(f.read(n), dtype=np.uint8)"
     ],
     "language": "python",
     "prompt_number": 3
    },
    {
     "cell_type": "code",
     "metadata": {},
     "outputs": [
      {
       "output_type": "display_data",
       "png": "[encoded data removed]",
       "text": [
        "<matplotlib.figure.Figure at 0x3c4b6d8>"
       ],
       "metadata": {}
      }
     ],
     "input": [
      "take=10\n",
      "for i in range(take):\n",
      "    #print([i,labels[i],str(labels[i])])\n",
      "    plt.subplot(1,take,i+1)\n",
      "    plt.title(str(labels[i]))\n",
      "    plt.imshow(imgList[i])\n",
      "plt.show()"
     ],
     "language": "python",
     "prompt_number": 4
    },
    {
     "cell_type": "code",
     "metadata": {},
     "outputs": [
      {
       "output_type": "stream",
       "stream": "[28 28]\n(64L, 28L, 28L, 1L)\n(28L, 28L, 1L)\n",
       "text": [
        "[28 28]\n(64L, 28L, 28L, 1L)\n(28L, 28L, 1L)\n"
       ]
      }
     ],
     "input": [
      "print(net.image_dims)\n",
      "i0=imgList[0:64].reshape(64,28,28,1)\n",
      "print(i0.shape)\n",
      "print(i0[0].shape)\n",
      "#prediction = net.predict([i0])\n",
      "prediction = net.predict([i0[0], i0[1]])"
     ],
     "language": "python",
     "prompt_number": 5
    },
    {
     "cell_type": "code",
     "metadata": {},
     "outputs": [
      {
       "ename": "NameError",
       "evalue": "name 'prediction' is not defined",
       "output_type": "pyerr",
       "traceback": [
        "\u001b[1;31m---------------------------------------------------------------------------\u001b[0m\n\u001b[1;31mNameError\u001b[0m                                 Traceback (most recent call last)",
        "\u001b[1;32m<ipython-input-3-9ebc5598a6f7>\u001b[0m in \u001b[0;36m<module>\u001b[1;34m()\u001b[0m\n\u001b[0;32m      1\u001b[0m \u001b[1;32mimport\u001b[0m \u001b[0mmatplotlib\u001b[0m\u001b[1;33m.\u001b[0m\u001b[0mpyplot\u001b[0m \u001b[1;32mas\u001b[0m \u001b[0mplt\u001b[0m\u001b[1;33m\u001b[0m\u001b[0m\n\u001b[1;32m----> 2\u001b[1;33m \u001b[1;32mprint\u001b[0m\u001b[1;33m(\u001b[0m\u001b[0mprediction\u001b[0m\u001b[1;33m)\u001b[0m\u001b[1;33m\u001b[0m\u001b[0m\n\u001b[0m",
        "\u001b[1;31mNameError\u001b[0m: name 'prediction' is not defined"
       ]
      }
     ],
     "input": [
      "print(prediction)"
     ],
     "language": "python",
     "prompt_number": 3
    },
    {
     "cell_type": "code",
     "metadata": {},
     "outputs": [
      {
       "output_type": "stream",
       "stream": "(323L, 481L, 3L)\n",
       "text": [
        "(323L, 481L, 3L)\n"
       ]
      }
     ],
     "input": [
      "#i1=plt.imread(\"E:\\\\mediata\\\\mnist\\\\2001.jpg\")\n",
      "i1=plt.imread(\"E:\\\\mediata\\\\caffe\\\\fish-bike.jpg\")\n",
      " \n",
      "print(i1.shape)"
     ],
     "language": "python",
     "prompt_number": 6
    },
    {
     "cell_type": "code",
     "metadata": {},
     "outputs": [],
     "input": [
      ""
     ],
     "language": "python"
    }
   ]
  }
 ],
 "cells": [],
 "metadata": {},
 "nbformat": 3,
 "nbformat_minor": 0
}